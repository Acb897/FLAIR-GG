{
 "cells": [
  {
   "cell_type": "markdown",
   "id": "221af593",
   "metadata": {},
   "source": [
    "## Purpose \n",
    "\n",
    "Using the World Flora Online taxonomic backbone, generate the DCAT Theme entries for the BGV FDP Dataset\n",
    "  \n",
    "## Citation\n",
    "\n",
    "CC0 from:\n",
    "\n",
    "v.2023.03\tMar. 04, \t(DwCA) Taxonomic classification.\n",
    "WFO (2023): World Flora Online. Version 2023.3. Published on the Internet; http://www.worldfloraonline.org. Accessed on:2023-11-30\n",
    "\n",
    "[doi:10.5281/zenodo.7460141](https://doi.org/10.5281/zenodo.7460141)"
   ]
  },
  {
   "cell_type": "code",
   "execution_count": 13,
   "id": "e60bf821",
   "metadata": {},
   "outputs": [],
   "source": [
    "`iconv -f UTF-8 -t UTF-8 ./data/wfo_classification.csv > ./data/wfo_classification_utf8.csv`\n",
    "abort\n",
    "\n",
    "template = \"https://www.worldfloraonline.org/taxon/\"\n",
    "\n",
    "bgv = File.readlines(\"./data/GermplasmBank_WFO_SpeciesList.txt\", \"r:UTF-8\")\n",
    "index = {}\n",
    "File.open(\"./data/wfo_classification_utf8.csv\", \"r:UTF-8\").each_line do |line| \n",
    "  line.encode(Encoding.find('UTF-8'), invalid: :replace, undef: :replace, replace: '')\n",
    "  # puts line\n",
    "  begin\n",
    "    elems = line.split(\"\\t\")\n",
    "  rescue\n",
    "    puts line.inspect\n",
    "    next\n",
    "  end\n",
    "  index[elems[0]] = [elems[3], elems[18], elems[19]]\n",
    "end\n",
    "\n",
    "bgv.each do |id|\n",
    "  puts \"NOT FOUND!!!\" and abort unless index[id]\n",
    "  print \"\\t\\t\"\n",
    "  if elems[19]\n",
    "    id = elems[19]\n",
    "    puts \"NOT FOUND!!!\" and abort unless index[id]\n",
    "    guid, term = template + id, index[id][0]\n",
    "  else\n",
    "    guid, term = template + id, index[id][0]\n",
    "  end\n",
    "  puts guid + \"\\t\" + term\n",
    "end\n"
   ]
  },
  {
   "cell_type": "code",
   "execution_count": null,
   "id": "df83fa88",
   "metadata": {},
   "outputs": [],
   "source": []
  }
 ],
 "metadata": {
  "kernelspec": {
   "display_name": "Ruby 3.0.0",
   "language": "ruby",
   "name": "ruby"
  },
  "language_info": {
   "file_extension": ".rb",
   "mimetype": "application/x-ruby",
   "name": "ruby",
   "version": "3.0.0"
  }
 },
 "nbformat": 4,
 "nbformat_minor": 5
}
